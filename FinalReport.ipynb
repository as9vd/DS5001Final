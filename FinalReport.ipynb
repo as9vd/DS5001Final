{
 "cells": [
  {
   "cell_type": "markdown",
   "id": "f25aa4ed-fd19-4c84-8a8d-a16d11996238",
   "metadata": {},
   "source": [
    "Asad Shamsiev (as9vd@virginia.edu) DS 5001 Spring 2023"
   ]
  },
  {
   "cell_type": "markdown",
   "id": "7045c35c-63f3-41de-a87b-d16a0c19cbfb",
   "metadata": {},
   "source": [
    "## Background"
   ]
  },
  {
   "cell_type": "markdown",
   "id": "9ef2d756-5a7e-4660-9aa7-872f8095cf92",
   "metadata": {},
   "source": [
    "The idea of this project is to explore topics and sentiments across different eras of football, namely Manchester United. The three different eras I decided to focus on were the Sir Bobby Charlton era (1956–1973), the Bryan Robson era (1981–1994), and the Roy Keane era (1993–2005). I also threw the ginger prince Paul Scholes (1993–2013) in the same boat as Roy Keane to get a deeper understanding of their era. \n",
    "\n",
    "These four are legendary footballers. Charlton is not only universally seen as the greatest English footballer of all time, but many would include him in a top 10 list of footballers ever. And that is a mighty accomplishment, as professional football has existed since 1888, and there have been millions of professional footballers in history. Robson is also seen as one of the best English footballers of all time and was voted Manchester United's best ever player by former Manchester United players. Ditto Paul Scholes, minus the title of United's best ever player. Finally, Roy Keane is one of the finest midfielders of all time and arguably the best Irish footballer ever, with only a couple other footballers coming close (namely Liam Brady).\n",
    "\n",
    "However, whilst these 4 were incredible players, their stints at the club were not marked by unending success. Bobby Charlton witnessed 8 of his teammates die in the Munich air disaster in February 1958 and almost died himself had it not been for heroics from his teammates Bill Foulkes and Harry Gregg. Prior to this, United were the best team in the country and had won the league in both 1956 and 1957. They were about to be the first team to win 3 league titles in a row since Huddersfield Town in 1926. Additionally, they were a force to be reckoned with in the coveted European Cup. Immediately after the disaster, United crashed out of the European Cup after a 4-0 loss to AC Milan at the San Siro and fell from 2nd place to 9th in the league table. For four years afterward, they struggled massively and finished in the bottom half of the table multiple times. Then, they bought the world-class Denis Law in 1962, and the Belfast boy, George Best, made his debut in 1963. From then on, United went on an incredible run, winning the FA Cup, 2 First Division titles, and the European Cup from 1963-1968. However, to end Charlton's career, United were plagued by nepotism, laziness, and crap performances, and from 1969-1973, they didn't win a single trophy and were a shell of a team they were in the past. In 1974, a year after Charlton had left, they were relegated to the Second Division, which was one of the darkest days in the club's history.\n",
    "\n",
    "Additionally, whilst Robson won trophies at United, many of them were at the tail end of his career, when Sir Alex Ferguson had began to work his magic. Before that, he spearheaded Atkinson's United side that were actually quite decent in the cups, but inconsistent in the league. Once Atkinson had been sacked in 1986 due to poor performances, United underwent a barren spell under Ferguson initially, finishing 11th and 13th place in 1989 and 1990 respectively. Additionally, as English teams were banned from European competition in 1985 (due to Liverpool supporters killing 39 Juventus supporters in the Heysel Stadium disaster), English football went through a very dark period of time. However, in 1990, everything had started to change. Manchester United beat Crystal Palace in a very difficult FA Cup final, and the club looked to be turning a corner. In 1991, they won the European Cup Winners' Cup in Rotterdam, beating Barcelona courtesy of two goals from Mark Hughes. Finally, they also won the Premier League in 1993 and 1994, ending Robson's career off with the trophies a player of his quality deserved. \n",
    "\n",
    "Keano and Scholes were fortunate enough to play in fantastic United sides their entire United careers, but even these two didn't have it entirely perfect. Roy Keane was sacked from the club in November 2005 after 12 years of fantastic performances because he had slaughtered his teammates in a MUTV commentary, and Scholes played in a United side that were pretty uninspired from 2004-2006, letting Chelsea and Arsenal scoop up all the prizes.\n",
    "\n",
    "All in all, these lads had ups and downs during their stints at the club, and I want to capture that somehow using the techniques I learned this semester. I also want to know how talking points/topics changed throughout the eras and if there were any similaries in topics. I would've liked to include another player from recent times, but unfortunately, as Manchester United have been crap in recent years, there hasn't been another midfielder at the club with even half the temperance, bottle, or class as these four chaps. I would've loved to include players from before Charlton as well, like George Wall or Arthur Rowley, but since these lads played for the club long, long ago (1906–1919 in the case of Wall), there is not much legible text out there about them, let alone entire novels. \n",
    "\n",
    "Additionally, I'm not going to just be looking at the players. I'm also going to get the perspectives of their managers. The managers in question are Sir Alex Ferguson (1986-2013), Sir Matt Busby (1945-1969), and Ron Atkinson (1981-1986). This'll hopefully enrich my analysis."
   ]
  },
  {
   "cell_type": "code",
   "execution_count": null,
   "id": "9cea9da2-a357-4ae9-bdd6-cfc662be01de",
   "metadata": {},
   "outputs": [],
   "source": []
  }
 ],
 "metadata": {
  "kernelspec": {
   "display_name": "Python 3 (ipykernel)",
   "language": "python",
   "name": "python3"
  },
  "language_info": {
   "codemirror_mode": {
    "name": "ipython",
    "version": 3
   },
   "file_extension": ".py",
   "mimetype": "text/x-python",
   "name": "python",
   "nbconvert_exporter": "python",
   "pygments_lexer": "ipython3",
   "version": "3.9.15"
  }
 },
 "nbformat": 4,
 "nbformat_minor": 5
}
